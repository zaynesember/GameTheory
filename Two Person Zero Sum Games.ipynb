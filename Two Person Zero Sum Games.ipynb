{
 "cells": [
  {
   "cell_type": "code",
   "execution_count": 6,
   "metadata": {},
   "outputs": [],
   "source": [
    "import ipywidgets as widgets\n",
    "import numpy as np\n",
    "import pandas as pd\n",
    "import matplotlib.pyplot"
   ]
  },
  {
   "cell_type": "code",
   "execution_count": 167,
   "metadata": {},
   "outputs": [],
   "source": [
    "#Recursively checks for and removes dominated strategies\n",
    "def domination(game=None,verbose=False):\n",
    "    output = game\n",
    "    \n",
    "    rows,cols = game.shape\n",
    "    removeRows = []\n",
    "\n",
    "    for r1 in range(rows):\n",
    "        for r2 in range(r1+1,rows):\n",
    "\n",
    "            row1 = game[r1,]\n",
    "            row2 = game[r2,]\n",
    "\n",
    "            compare12 = True #tracks if row 1 can dominate row 2 still\n",
    "            compare21 = True #tracks when row 2 can dominate row 1 still\n",
    "\n",
    "            for c in range(cols):\n",
    "                if(row1[c] > row2[c]): compare21 = False\n",
    "                if(row1[c] < row2[c]): compare12 = False\n",
    "\n",
    "            if(compare21): \n",
    "                if verbose: print(\"Row\",r2,\"dominates row\",r1)\n",
    "                if(not r1 in removeRows): removeRows.append(r1)\n",
    "\n",
    "            elif(compare12): \n",
    "                if verbose: print(\"Row\",r1,\"dominates row\",r2)\n",
    "                if(not r2 in removeRows): removeRows.append(r2)\n",
    "\n",
    "    output = np.delete(game,removeRows,axis=0)\n",
    "\n",
    "    rows,cols = output.shape\n",
    "    removeCols = []\n",
    "\n",
    "    for c1 in range(cols):\n",
    "        for c2 in range(c1+1,cols):\n",
    "\n",
    "            col1 = output[:,c1]\n",
    "            col2 = output[:,c2]\n",
    "\n",
    "            compare12 = True #tracks if col 1 can dominate col 2 still\n",
    "            compare21 = True #tracks when col 2 can dominate col 1 still\n",
    "\n",
    "            for r in range(rows):\n",
    "                if(col1[r] < col2[r]): compare21 = False\n",
    "                if(col1[r] > col2[r]): compare12 = False\n",
    "\n",
    "            if(compare21): \n",
    "                if verbose: print(\"Column\",c2,\"dominates column\",c1)\n",
    "                if(not c1 in removeCols): removeCols.append(c1)\n",
    "\n",
    "            elif(compare12): \n",
    "                if verbose: print(\"Column\",c1,\"dominates column\",c2)\n",
    "                if(not c2 in removeCols): removeCols.append(c2)\n",
    "\n",
    "    output = np.delete(output,removeCols,axis=1)\n",
    "    \n",
    "    if(np.array_equal(game,output)):\n",
    "        if verbose: print(\"Result:\\n\",output)\n",
    "        return output\n",
    "    else: return domination(output,verbose)"
   ]
  },
  {
   "cell_type": "code",
   "execution_count": 223,
   "metadata": {},
   "outputs": [],
   "source": [
    "#Returns array of row minima and column maxima\n",
    "def getminimax(game):\n",
    "    rowMins = []\n",
    "    colMaxs = []\n",
    "    rows,cols = game.shape\n",
    "    \n",
    "    for r in range(rows):\n",
    "        rowMins.append(np.amin(game[r]))\n",
    "    \n",
    "    for c in range(cols):\n",
    "        colMaxs.append(np.amax(game[:,c]))\n",
    "    \n",
    "    rowMins = np.array(rowMins)\n",
    "    colMaxs = np.array(colMaxs)\n",
    "    return np.array([rowMins,colMaxs])\n",
    "            "
   ]
  },
  {
   "cell_type": "code",
   "execution_count": 224,
   "metadata": {},
   "outputs": [],
   "source": [
    "#Determines saddle point value, returns None if no saddle exists\n",
    "def getsaddle(game):\n",
    "    mm = getminimax(game)\n",
    "    \n",
    "    maximin = np.amax(mm[0])\n",
    "    minimax = np.amin(mm[1])\n",
    "    \n",
    "    if maximin == minimax: return maximin\n",
    "    else: return None"
   ]
  },
  {
   "cell_type": "code",
   "execution_count": 229,
   "metadata": {},
   "outputs": [
    {
     "data": {
      "text/plain": [
       "1"
      ]
     },
     "execution_count": 229,
     "metadata": {},
     "output_type": "execute_result"
    }
   ],
   "source": [
    "test = np.array([[4,3,2,5],[-10,2,0,-1],[7,5,2,3],[0,8,-4,-5]])\n",
    "getsaddle(test)\n",
    "t2 = np.array([[1,2],[1,1]])\n",
    "getsaddle(t2)"
   ]
  },
  {
   "cell_type": "code",
   "execution_count": null,
   "metadata": {},
   "outputs": [],
   "source": []
  }
 ],
 "metadata": {
  "kernelspec": {
   "display_name": "Python 3",
   "language": "python",
   "name": "python3"
  },
  "language_info": {
   "codemirror_mode": {
    "name": "ipython",
    "version": 3
   },
   "file_extension": ".py",
   "mimetype": "text/x-python",
   "name": "python",
   "nbconvert_exporter": "python",
   "pygments_lexer": "ipython3",
   "version": "3.7.4"
  }
 },
 "nbformat": 4,
 "nbformat_minor": 2
}
